{
 "cells": [
  {
   "cell_type": "markdown",
   "id": "77367d60",
   "metadata": {},
   "source": [
    "# Implementing the \"Cube\" approach"
   ]
  },
  {
   "cell_type": "code",
   "execution_count": 1,
   "id": "823509f4",
   "metadata": {},
   "outputs": [],
   "source": [
    "import pykep as pk\n",
    "import numpy as np\n",
    "import json\n",
    "import pickle as pkl\n",
    "\n",
    "from mpl_toolkits.mplot3d import Axes3D\n",
    "from matplotlib import pyplot as plt\n",
    "%matplotlib notebook\n",
    "\n",
    "import cascade as csc\n",
    "from copy import deepcopy\n",
    "from tqdm.notebook import tqdm\n",
    "import heyoka as hy\n",
    "\n",
    "# added for the Cube approach implementation\n",
    "from collections import defaultdict\n",
    "import time\n",
    "import sgp4\n",
    "from sgp4.api import Satrec, SatrecArray"
   ]
  },
  {
   "cell_type": "code",
   "execution_count": 2,
   "id": "fa3e5342",
   "metadata": {},
   "outputs": [],
   "source": [
    "with open(\"data/debris_simulation_ic.pk\", \"rb\") as file:\n",
    "    r_ic,v_ic,collision_radius,to_satcat,satcat,debris = pkl.load(file)"
   ]
  },
  {
   "cell_type": "code",
   "execution_count": 3,
   "id": "3081632a",
   "metadata": {},
   "outputs": [],
   "source": [
    "def period(r,v, mu):\n",
    "    \"\"\"Computes the orbital period from the vis-viva equation\n",
    "\n",
    "    Args:\n",
    "        r (float): The radius (in L).\n",
    "        v (float): The velocity (in L/T).\n",
    "        mu (float): The gravitational parameter in L^3/T^2\n",
    "\n",
    "    Returns:\n",
    "        The orbital period (in T)\n",
    "    \"\"\"\n",
    "    En = v**2/2 - mu / r\n",
    "    a = -mu / En / 2\n",
    "    if a<0:\n",
    "        raise ValueError(\"Hyperbola!!!\")\n",
    "    return np.sqrt(a**3/mu)*2*np.pi"
   ]
  },
  {
   "cell_type": "code",
   "execution_count": 4,
   "id": "eefd8883",
   "metadata": {},
   "outputs": [],
   "source": [
    "def cubes(cartesian_points, cube_dimension):\n",
    "    \"\"\"Runs the Cube algorithm and returns satellites within the same cube\n",
    "\n",
    "    Args:\n",
    "        cartesian_points (Nx3 np.array): The cartesian position of the satellites (in L).\n",
    "        cube_dimension (float): The cube dimentsion (in L).\n",
    "\n",
    "    Returns:\n",
    "        a list containing lists of satelites idx occupying the same cube\n",
    "    \"\"\"\n",
    "    # init\n",
    "    retval = []\n",
    "    cubes = defaultdict(list)\n",
    "\n",
    "    # We compute the floored Cartesian coordinates identifying the bins.\n",
    "    pos = cartesian_points\n",
    "    pos = pos / cube_dimension\n",
    "    pos = np.floor(pos).astype(int)\n",
    "    # We fill the bins\n",
    "    for i, xyz in enumerate(pos):\n",
    "        cubes[tuple(xyz)].append(i)\n",
    "    # We find bins with more than one atellite\n",
    "    for key in cubes:\n",
    "        if len(cubes[key]) > 1:\n",
    "            retval.append(cubes[key])\n",
    "    return retval"
   ]
  },
  {
   "cell_type": "code",
   "execution_count": 5,
   "id": "d908c92d",
   "metadata": {},
   "outputs": [],
   "source": [
    "def simulate_sgp4(debris, sim_time=20,time_grid=5, t0 = 8073.603992389981):\n",
    "    \"\"\"Computes all satellites ephemerides on a time grid\n",
    "\n",
    "    Args:\n",
    "        debris (list of pk.planets): The objects to propagate.\n",
    "        sim_time (float): The total propagation time (in years).\n",
    "        time_grid(float): The time resolution (in days).\n",
    "        t0 (float): the starting epoch in mjd2000.\n",
    "\n",
    "    Returns:\n",
    "        a list containing lists of idx identifying the object occupying the same cube\n",
    "    \"\"\"\n",
    "    # This list will contain all the sgp4 Satrec objects\n",
    "    satellite_l = []\n",
    "    for deb in debris:\n",
    "        l1 = deb.line1\n",
    "        l2 = deb.line2\n",
    "        satellite_l.append(Satrec.twoline2rv(l1, l2))\n",
    "    # Here we build the vectorized version allowing for speed\n",
    "    satellites = SatrecArray(satellite_l)\n",
    "    jd0, fr = pk.epoch(t0).jd, 0.0\n",
    "    # The Julian dates are from jd0 to 20 years after\n",
    "    jds = jd0 + np.arange(0,sim_time*365.25/time_grid)*time_grid\n",
    "    frs = jds * 0\n",
    "    return satellites.sgp4(jds, frs)"
   ]
  },
  {
   "cell_type": "code",
   "execution_count": 6,
   "id": "88424dce",
   "metadata": {},
   "outputs": [
    {
     "name": "stdout",
     "output_type": "stream",
     "text": [
      "29 ms ± 4.37 ms per loop (mean ± std. dev. of 7 runs, 10 loops each)\n"
     ]
    }
   ],
   "source": [
    "%timeit cubes(r_ic / 1000, 10)"
   ]
  },
  {
   "cell_type": "code",
   "execution_count": 7,
   "id": "95408de3",
   "metadata": {},
   "outputs": [
    {
     "name": "stdout",
     "output_type": "stream",
     "text": [
      "Time elasped:  8.106714963912964\n"
     ]
    }
   ],
   "source": [
    "start = time.time()\n",
    "e,r,v = simulate_sgp4(np.array(debris)[to_satcat], sim_time=20,time_grid=5, t0 = 8073.603992389981+np.random.random()*5)\n",
    "end = time.time()\n",
    "print(\"Time elasped: \", end - start)\n"
   ]
  },
  {
   "cell_type": "code",
   "execution_count": 8,
   "id": "e707a031",
   "metadata": {
    "scrolled": false
   },
   "outputs": [
    {
     "name": "stdout",
     "output_type": "stream",
     "text": [
      "Collision! pair: [15735, 16592], years: 0.16427104722792607\n",
      "Collision! pair: [13836, 14952], years: 0.8487337440109514\n",
      "Collision! pair: [11689, 15638], years: 1.8069815195071868\n",
      "Collision! pair: [1865, 14948], years: 2.3134839151266258\n",
      "Collision! pair: [13494, 15408], years: 2.7104722792607805\n",
      "Collision! pair: [7187, 15358], years: 2.833675564681725\n",
      "Collision! pair: [14191, 15863], years: 2.847364818617385\n",
      "Collision! pair: [3573, 17077], years: 2.915811088295688\n",
      "Collision! pair: [13872, 15462], years: 4.955509924709103\n",
      "Collision! pair: [12081, 16336], years: 5.900068446269678\n",
      "Collision! pair: [12501, 13565], years: 7.693360711841205\n",
      "Collision! pair: [12528, 14067], years: 10.403832991101986\n",
      "Collision! pair: [10057, 14805], years: 13.114305270362765\n",
      "Collision! pair: [13680, 13701], years: 13.374401095140314\n",
      "Collision! pair: [1595, 13447], years: 15.824777549623546\n",
      "Collision! pair: [715, 11435], years: 18.05612594113621\n",
      "Time elasped:  54.44314360618591\n",
      "Decayed objects:  4987\n",
      "Number of collisions:  16\n"
     ]
    }
   ],
   "source": [
    "# We assume all satellites are valid at the starting epoch\n",
    "start = time.time()\n",
    "undecayed = set(np.arange(r.shape[0]))\n",
    "n_collisions=0\n",
    "for i in range(r.shape[1]):\n",
    "    Lcube = 10. #km\n",
    "    time_grid  = 5 #days\n",
    "    # If signalled from the sgp4, we remove the indices of the decayed satellites\n",
    "    decayed = set(np.where(e[:,i]>0)[0])\n",
    "    undecayed = undecayed - decayed\n",
    "    undecayed_l = np.array([j for j in undecayed])\n",
    "    # We detect all satellites couples in the same cube of Lcube km size\n",
    "    collision = cubes(r[undecayed_l,i,:], cube_dimension = Lcube)\n",
    "    #kdt = KDTree(r[undecayed_l,i,:])\n",
    "    #collision = list(kdt.query_pairs(Lcube))\n",
    "    #print(collision)\n",
    "    for pair in collision:\n",
    "        # we get the indexes in r,v\n",
    "        idx1 = undecayed_l[pair[0]]\n",
    "        idx2 = undecayed_l[pair[1]]\n",
    "        # we store positions and velocities from r,v\n",
    "        r1 = r[idx1,i,:]\n",
    "        r2 = r[idx2,i,:]\n",
    "        v1 = v[idx1,i,:]\n",
    "        v2 = v[idx2,i,:]\n",
    "        # we get the collision radiu from debris (indexed differently hence to_satcat is used)\n",
    "        collision_radius1 = debris[to_satcat[idx1]].collision_radius\n",
    "        collision_radius2 = debris[to_satcat[idx2]].collision_radius\n",
    "        # Relative velocity \n",
    "        Vrel = np.linalg.norm(v1-v2)\n",
    "        # Collisional area of the couple (in km^2)\n",
    "        sigma = np.pi*((collision_radius1+collision_radius2)/1000)**2 \n",
    "        # Volume of the cube (km^3)\n",
    "        U = (Lcube)**3\n",
    "        # We compute the spatial densities\n",
    "        # densities (from \"Assessing collision algorithms for the newspace era\" )\n",
    "        s1 = 1./U\n",
    "        s2 = 1./U\n",
    "        # collision probability\n",
    "        Pij = s1*s2*Vrel*sigma*U*time_grid*pk.DAY2SEC\n",
    "        # Store\n",
    "        if Pij > np.random.random():\n",
    "            print(f\"Collision! pair: {pair}, years: {i*5/365.25}\")\n",
    "            n_collisions+=1\n",
    "end = time.time()\n",
    "print(\"Time elasped: \", end - start)\n",
    "print(\"Decayed objects: \", r_ic.shape[0] - len(undecayed))\n",
    "print(\"Number of collisions: \", n_collisions)"
   ]
  },
  {
   "cell_type": "code",
   "execution_count": 9,
   "id": "98b02e3a",
   "metadata": {},
   "outputs": [
    {
     "data": {
      "text/plain": [
       "4987"
      ]
     },
     "execution_count": 9,
     "metadata": {},
     "output_type": "execute_result"
    }
   ],
   "source": [
    "r_ic.shape[0] - len(undecayed)"
   ]
  },
  {
   "cell_type": "code",
   "execution_count": 10,
   "id": "87f94d87",
   "metadata": {},
   "outputs": [
    {
     "data": {
      "text/plain": [
       "(19669, 3)"
      ]
     },
     "execution_count": 10,
     "metadata": {},
     "output_type": "execute_result"
    }
   ],
   "source": [
    "r_ic.shape"
   ]
  },
  {
   "cell_type": "code",
   "execution_count": 11,
   "id": "e6a1c59f",
   "metadata": {},
   "outputs": [
    {
     "ename": "NameError",
     "evalue": "name 'mp' is not defined",
     "output_type": "error",
     "traceback": [
      "\u001b[1;31m---------------------------------------------------------------------------\u001b[0m",
      "\u001b[1;31mNameError\u001b[0m                                 Traceback (most recent call last)",
      "\u001b[1;32mc:\\Users\\Giovanni.Facchinetti\\OneDrive - ESA\\Desktop\\cascade_fork\\cascade.py\\notebooks\\cubes.ipynb Cell 12\u001b[0m line \u001b[0;36m1\n\u001b[1;32m----> <a href='vscode-notebook-cell:/c%3A/Users/Giovanni.Facchinetti/OneDrive%20-%20ESA/Desktop/cascade_fork/cascade.py/notebooks/cubes.ipynb#X14sZmlsZQ%3D%3D?line=0'>1</a>\u001b[0m q \u001b[39m=\u001b[39m mp\u001b[39m.\u001b[39mQueue()\n",
      "\u001b[1;31mNameError\u001b[0m: name 'mp' is not defined"
     ]
    }
   ],
   "source": [
    "q = mp.Queue()"
   ]
  },
  {
   "cell_type": "code",
   "execution_count": null,
   "id": "2e4a7fc0",
   "metadata": {},
   "outputs": [],
   "source": [
    "q.put(2.)"
   ]
  },
  {
   "cell_type": "code",
   "execution_count": null,
   "id": "2893d263",
   "metadata": {},
   "outputs": [],
   "source": [
    "q.put(23.9)"
   ]
  },
  {
   "cell_type": "code",
   "execution_count": null,
   "id": "ba1588cd",
   "metadata": {},
   "outputs": [
    {
     "ename": "TypeError",
     "evalue": "'Queue' object is not iterable",
     "output_type": "error",
     "traceback": [
      "\u001b[0;31m---------------------------------------------------------------------------\u001b[0m",
      "\u001b[0;31mTypeError\u001b[0m                                 Traceback (most recent call last)",
      "Input \u001b[0;32mIn [33]\u001b[0m, in \u001b[0;36m<cell line: 1>\u001b[0;34m()\u001b[0m\n\u001b[0;32m----> 1\u001b[0m \u001b[38;5;28;43mlist\u001b[39;49m\u001b[43m(\u001b[49m\u001b[43mq\u001b[49m\u001b[43m)\u001b[49m\n",
      "\u001b[0;31mTypeError\u001b[0m: 'Queue' object is not iterable"
     ]
    }
   ],
   "source": [
    "list(q)"
   ]
  },
  {
   "cell_type": "code",
   "execution_count": null,
   "id": "0c272ca9",
   "metadata": {},
   "outputs": [],
   "source": [
    "from scipy.spatial import KDTree"
   ]
  },
  {
   "cell_type": "code",
   "execution_count": null,
   "id": "2b03ec87",
   "metadata": {},
   "outputs": [],
   "source": [
    "kd = KDTree(r_ic/1000)"
   ]
  },
  {
   "cell_type": "code",
   "execution_count": null,
   "id": "0c362af5",
   "metadata": {},
   "outputs": [
    {
     "data": {
      "text/plain": [
       "[(16909, 16931),\n",
       " (5092, 6507),\n",
       " (7538, 9580),\n",
       " (18380, 18837),\n",
       " (17397, 17399),\n",
       " (18670, 18672),\n",
       " (18474, 18478),\n",
       " (18635, 18636),\n",
       " (4854, 6471),\n",
       " (15565, 15577)]"
      ]
     },
     "execution_count": 52,
     "metadata": {},
     "output_type": "execute_result"
    }
   ],
   "source": [
    "list(kd.query_pairs(10))"
   ]
  },
  {
   "cell_type": "code",
   "execution_count": null,
   "id": "30fd6cc7",
   "metadata": {},
   "outputs": [
    {
     "data": {
      "text/plain": [
       "[[4854, 6471], [15565, 15577]]"
      ]
     },
     "execution_count": 47,
     "metadata": {},
     "output_type": "execute_result"
    }
   ],
   "source": [
    "cubes(r_ic/1000, 10)"
   ]
  },
  {
   "cell_type": "code",
   "execution_count": null,
   "id": "291550c7",
   "metadata": {},
   "outputs": [
    {
     "data": {
      "text/plain": [
       "0.5235987755982988"
      ]
     },
     "execution_count": 57,
     "metadata": {},
     "output_type": "execute_result"
    }
   ],
   "source": [
    "4/3*np.pi/8"
   ]
  },
  {
   "cell_type": "code",
   "execution_count": null,
   "id": "4068b258",
   "metadata": {},
   "outputs": [],
   "source": []
  }
 ],
 "metadata": {
  "kernelspec": {
   "display_name": "Python 3 (ipykernel)",
   "language": "python",
   "name": "python3"
  },
  "language_info": {
   "codemirror_mode": {
    "name": "ipython",
    "version": 3
   },
   "file_extension": ".py",
   "mimetype": "text/x-python",
   "name": "python",
   "nbconvert_exporter": "python",
   "pygments_lexer": "ipython3",
   "version": "3.11.5"
  }
 },
 "nbformat": 4,
 "nbformat_minor": 5
}
