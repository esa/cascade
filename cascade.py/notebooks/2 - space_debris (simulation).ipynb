{
 "cells": [
  {
   "cell_type": "code",
   "execution_count": 1,
   "id": "c9b316b3-8d04-4b55-8395-54be3213bd03",
   "metadata": {},
   "outputs": [],
   "source": [
    "import pykep as pk\n",
    "import numpy as np\n",
    "import json\n",
    "import pickle as pkl\n",
    "\n",
    "from mpl_toolkits.mplot3d import Axes3D\n",
    "from matplotlib import pyplot as plt\n",
    "%matplotlib notebook"
   ]
  },
  {
   "cell_type": "code",
   "execution_count": 2,
   "id": "509d978f-c0b2-422d-9c0b-fbe4cfdc7642",
   "metadata": {},
   "outputs": [],
   "source": [
    "import cascade as csc\n",
    "from copy import deepcopy\n",
    "from tqdm.notebook import tqdm\n",
    "import heyoka as hy"
   ]
  },
  {
   "cell_type": "markdown",
   "id": "3a5f6485",
   "metadata": {},
   "source": [
    "# We import the simulation initial conditions and atmospheric density model\n",
    "The files needed are:\n",
    "* **debris_simulation_ic.pk** - created by the notebook 1\n",
    "* **best_fit_density.pk** - created by the notebook 1b"
   ]
  },
  {
   "cell_type": "code",
   "execution_count": 3,
   "id": "76079dd5",
   "metadata": {},
   "outputs": [],
   "source": [
    "with open(\"data/debris_simulation_ic.pk\", \"rb\") as file:\n",
    "    r_ic,v_ic,collision_radius,to_satcat,satcat,debris = pkl.load(file)"
   ]
  },
  {
   "cell_type": "markdown",
   "id": "1ff31aa1",
   "metadata": {},
   "source": [
    "* **r**: contains the initial position of all satellites to be simulated (SI units)\n",
    "* **v**: contains the initial velocity of all satellites to be simulated (SI units)\n",
    "* **radius**: contains all the estimated radii for the various objects (in meters)\n",
    "* **to_satcat**: contains the indexes in the satcat of the corresponding r,v,radius entry\n",
    "* **satcat**: the satcat\n",
    "* **debris**: the corresponding pykep planets"
   ]
  },
  {
   "cell_type": "code",
   "execution_count": 4,
   "id": "3f7a39ab",
   "metadata": {},
   "outputs": [],
   "source": [
    "with open(\"data/best_fit_density.pk\", \"rb\") as file:\n",
    "    best_x = pkl.load(file)"
   ]
  },
  {
   "cell_type": "code",
   "execution_count": 5,
   "id": "d564e8f6",
   "metadata": {},
   "outputs": [],
   "source": [
    "# We need to create an array containing all B*\n",
    "BSTARS = []\n",
    "for idx in to_satcat:\n",
    "    BSTARS.append(float(satcat[idx][\"BSTAR\"]))\n",
    "# We put the BSTAR in SI units\n",
    "BSTARS = np.array(BSTARS) / pk.EARTH_RADIUS\n",
    "# We remove negative BSTARS setting the value to zero in those occasions\n",
    "BSTARS[BSTARS<0] = 0."
   ]
  },
  {
   "cell_type": "markdown",
   "id": "682994db",
   "metadata": {},
   "source": [
    "# We build the dynamical system to integrate"
   ]
  },
  {
   "cell_type": "code",
   "execution_count": 6,
   "id": "adf9eeb8",
   "metadata": {},
   "outputs": [],
   "source": [
    "dyn = csc.dynamics.simple_earth(J2=True, J3=False, C22S22=True, sun=False, moon=False, SRP=False, drag=True)"
   ]
  },
  {
   "cell_type": "markdown",
   "id": "b90bebf2",
   "metadata": {},
   "source": [
    "# We setup the simulation"
   ]
  },
  {
   "cell_type": "code",
   "execution_count": 7,
   "id": "dbd1796c",
   "metadata": {},
   "outputs": [],
   "source": [
    "csc.set_logger_level_trace()"
   ]
  },
  {
   "cell_type": "code",
   "execution_count": 8,
   "id": "8c37507d-22ec-478b-8846-cacc82cff608",
   "metadata": {},
   "outputs": [],
   "source": [
    "def remove_particle(idx, r_ic, v_ic, BSTARS,to_satcat, collision_radius):\n",
    "    r_ic = np.delete(r_ic, idx, axis=0)\n",
    "    BSTARS = np.delete(BSTARS, idx, axis=0)\n",
    "    v_ic = np.delete(v_ic, idx, axis=0)\n",
    "    to_satcat = np.delete(to_satcat, idx, axis=0)\n",
    "    collision_radius = np.delete(collision_radius, idx, axis=0)\n",
    "    return r_ic, v_ic, BSTARS, to_satcat, collision_radius"
   ]
  },
  {
   "cell_type": "code",
   "execution_count": 9,
   "id": "63fa8991",
   "metadata": {},
   "outputs": [
    {
     "name": "stdout",
     "output_type": "stream",
     "text": [
      "Removing orbiting objects:\n",
      "LEMUR 2 ROCKETJONAH - 2017-071E\n",
      "ISARA - 2017-071P\n",
      "FREGAT DEB - 2011-037EM\n",
      "STARLINK-1684 - 2020-070H\n",
      "COSMOS 1408 DEB - 1982-092Z\n",
      "COSMOS 1408 DEB - 1982-092AK\n",
      "COSMOS 1408 DEB - 1982-092ES\n",
      "COSMOS 1408 DEB - 1982-092FK\n",
      "COSMOS 1408 DEB - 1982-092FY\n",
      "COSMOS 1408 DEB - 1982-092GU\n",
      "COSMOS 1408 DEB - 1982-092NA\n",
      "COSMOS 1408 DEB - 1982-092PV\n",
      "COSMOS 1408 DEB - 1982-092PW\n",
      "COSMOS 1408 DEB - 1982-092RM\n",
      "COSMOS 1408 DEB - 1982-092ACG\n",
      "COSMOS 1408 DEB - 1982-092AQC\n",
      "COSMOS 1408 DEB - 1982-092ARK\n",
      "COSMOS 1408 DEB - 1982-092AXA\n",
      "COSMOS 1408 DEB - 1982-092AXD\n",
      "COSMOS 1408 DEB - 1982-092BDB\n",
      "COSMOS 1408 DEB - 1982-092BFU\n",
      "COSMOS 1408 DEB - 1982-092BKD\n"
     ]
    }
   ],
   "source": [
    "# Before starting we need to remove all particles inside our playing field\n",
    "min_radius = pk.EARTH_RADIUS+150000.\n",
    "inside_the_radius = np.where(np.linalg.norm(r_ic,axis=1) < min_radius)[0]\n",
    "print(\"Removing orbiting objects:\")\n",
    "for idx in inside_the_radius:\n",
    "    print(satcat[to_satcat[idx]][\"OBJECT_NAME\"], \"-\", satcat[to_satcat[idx]][\"OBJECT_ID\"])\n",
    "r_ic, v_ic, BSTARS,to_satcat, collision_radius = remove_particle(inside_the_radius, r_ic, v_ic, BSTARS,to_satcat, collision_radius)"
   ]
  },
  {
   "cell_type": "code",
   "execution_count": 10,
   "id": "833ac987-eff7-4843-876a-2bfda8033245",
   "metadata": {},
   "outputs": [],
   "source": [
    "# Prepare the data in the shape expected by the simulation object.\n",
    "ic_state = np.hstack([r_ic, v_ic, collision_radius.reshape((r_ic.shape[0], 1))])\n",
    "pars = BSTARS.reshape((r_ic.shape[0], 1))\n",
    "\n",
    "# Uncommen these lines to save the txt files to be used in the cpp simulations\n",
    "#np.savetxt(\"test_ic_19647.txt\", ic_state.reshape((-1, 1))\n",
    "#np.savetxt(\"test_par_19647.txt\", pars)"
   ]
  },
  {
   "cell_type": "code",
   "execution_count": 11,
   "id": "a7759ac8-21f2-41b2-a064-a32a559a4e2c",
   "metadata": {},
   "outputs": [],
   "source": [
    "sim = csc.sim(ic_state,0.23 * 806.81,dyn=dyn,pars=pars, reentry_radius=min_radius)"
   ]
  },
  {
   "cell_type": "markdown",
   "id": "ac13212b",
   "metadata": {},
   "source": [
    "# We run the simulation"
   ]
  },
  {
   "cell_type": "code",
   "execution_count": 12,
   "id": "1fd7ddbf",
   "metadata": {},
   "outputs": [],
   "source": [
    "# new_state  =deepcopy(ic_state)\n",
    "# new_pars  =deepcopy(pars)\n",
    "# new_to_satcat  =deepcopy(to_satcat)\n",
    "\n",
    "rng = np.random\n"
   ]
  },
  {
   "cell_type": "code",
   "execution_count": 13,
   "id": "345f1edd-5341-4b85-b460-21ca7938563b",
   "metadata": {},
   "outputs": [
    {
     "data": {
      "application/vnd.jupyter.widget-view+json": {
       "model_id": "cb94ae6b32974fe8a6da5ce2b079c1d1",
       "version_major": 2,
       "version_minor": 0
      },
      "text/plain": [
       "  0%|          | 0/31557600.0 [00:00<?, ?it/s]"
      ]
     },
     "metadata": {},
     "output_type": "display_data"
    },
    {
     "name": "stdout",
     "output_type": "stream",
     "text": [
      "COSMOS 1408 DEB, 1982-092FH,  0.0011018074694589025 REMOVED\n"
     ]
    },
    {
     "ename": "AttributeError",
     "evalue": "'cascade.core.sim' object has no attribute 'set_new_state'",
     "output_type": "error",
     "traceback": [
      "\u001b[1;31m---------------------------------------------------------------------------\u001b[0m",
      "\u001b[1;31mAttributeError\u001b[0m                            Traceback (most recent call last)",
      "\u001b[1;32mc:\\Users\\Giovanni.Facchinetti\\OneDrive - ESA\\Desktop\\cascade_fork\\cascade.py\\notebooks\\2 - space_debris (simulation).ipynb Cell 18\u001b[0m line \u001b[0;36m4\n\u001b[0;32m     <a href='vscode-notebook-cell:/c%3A/Users/Giovanni.Facchinetti/OneDrive%20-%20ESA/Desktop/cascade_fork/cascade.py/notebooks/2%20-%20space_debris%20%28simulation%29.ipynb#X30sZmlsZQ%3D%3D?line=37'>38</a>\u001b[0m new_state \u001b[39m=\u001b[39m np\u001b[39m.\u001b[39mdelete(sim\u001b[39m.\u001b[39mstate,pi,axis\u001b[39m=\u001b[39m\u001b[39m0\u001b[39m)\n\u001b[0;32m     <a href='vscode-notebook-cell:/c%3A/Users/Giovanni.Facchinetti/OneDrive%20-%20ESA/Desktop/cascade_fork/cascade.py/notebooks/2%20-%20space_debris%20%28simulation%29.ipynb#X30sZmlsZQ%3D%3D?line=38'>39</a>\u001b[0m new_pars \u001b[39m=\u001b[39m np\u001b[39m.\u001b[39mdelete(sim\u001b[39m.\u001b[39mpars,pi,axis\u001b[39m=\u001b[39m\u001b[39m0\u001b[39m)\n\u001b[1;32m---> <a href='vscode-notebook-cell:/c%3A/Users/Giovanni.Facchinetti/OneDrive%20-%20ESA/Desktop/cascade_fork/cascade.py/notebooks/2%20-%20space_debris%20%28simulation%29.ipynb#X30sZmlsZQ%3D%3D?line=40'>41</a>\u001b[0m sim\u001b[39m.\u001b[39;49mset_new_state(new_state)\n\u001b[0;32m     <a href='vscode-notebook-cell:/c%3A/Users/Giovanni.Facchinetti/OneDrive%20-%20ESA/Desktop/cascade_fork/cascade.py/notebooks/2%20-%20space_debris%20%28simulation%29.ipynb#X30sZmlsZQ%3D%3D?line=41'>42</a>\u001b[0m sim\u001b[39m.\u001b[39mpars[:] \u001b[39m=\u001b[39m new_pars\n\u001b[0;32m     <a href='vscode-notebook-cell:/c%3A/Users/Giovanni.Facchinetti/OneDrive%20-%20ESA/Desktop/cascade_fork/cascade.py/notebooks/2%20-%20space_debris%20%28simulation%29.ipynb#X30sZmlsZQ%3D%3D?line=43'>44</a>\u001b[0m \u001b[39m# new_r_ic = np.vstack((sim.x,sim.y,sim.z)).transpose()\u001b[39;00m\n\u001b[0;32m     <a href='vscode-notebook-cell:/c%3A/Users/Giovanni.Facchinetti/OneDrive%20-%20ESA/Desktop/cascade_fork/cascade.py/notebooks/2%20-%20space_debris%20%28simulation%29.ipynb#X30sZmlsZQ%3D%3D?line=44'>45</a>\u001b[0m \u001b[39m# new_v_ic = np.vstack((sim.vx,sim.vy,sim.vz)).transpose()\u001b[39;00m\n\u001b[0;32m     <a href='vscode-notebook-cell:/c%3A/Users/Giovanni.Facchinetti/OneDrive%20-%20ESA/Desktop/cascade_fork/cascade.py/notebooks/2%20-%20space_debris%20%28simulation%29.ipynb#X30sZmlsZQ%3D%3D?line=45'>46</a>\u001b[0m \u001b[39m# new_r_ic, new_v_ic, new_BSTARS,new_to_satcat, new_reentry_radius = remove_particle(pi, new_r_ic, new_v_ic, new_BSTARS,new_to_satcat, new_reentry_radius)\u001b[39;00m\n\u001b[0;32m     <a href='vscode-notebook-cell:/c%3A/Users/Giovanni.Facchinetti/OneDrive%20-%20ESA/Desktop/cascade_fork/cascade.py/notebooks/2%20-%20space_debris%20%28simulation%29.ipynb#X30sZmlsZQ%3D%3D?line=46'>47</a>\u001b[0m \u001b[39m# sim.set_new_state(new_r_ic[:,0],new_r_ic[:,1],new_r_ic[:,2],new_v_ic[:,0],new_v_ic[:,1],new_v_ic[:,2],new_reentry_radius, pars=[new_BSTARS])\u001b[39;00m\n",
      "\u001b[1;31mAttributeError\u001b[0m: 'cascade.core.sim' object has no attribute 'set_new_state'"
     ]
    }
   ],
   "source": [
    "final_t = 365.25 * pk.DAY2SEC\n",
    "\n",
    "pbar = tqdm(total=final_t)\n",
    "\n",
    "while sim.time < final_t:\n",
    "    orig_time = sim.time\n",
    "    \n",
    "    oc = sim.step()\n",
    "    \n",
    "    pbar.update(sim.time - orig_time)\n",
    "   \n",
    "    if oc == csc.outcome.collision:\n",
    "        # TODO different code needed for crash\n",
    "        # on Earth here.\n",
    "        pi, pj = sim.interrupt_info\n",
    "        \n",
    "        print(\"Collision detected, re-initing particles {} and {}\".format(pi, pj))\n",
    "        \n",
    "        for idx in [pi, pj]:\n",
    "            a = rng.uniform(1.02*Re, 1.3*Re)\n",
    "            e = rng.uniform(0, 0.02)\n",
    "            inc = rng.uniform(0, 0.05)\n",
    "            om = rng.uniform(0, 2*np.pi)\n",
    "            Om = rng.uniform(0, 2*np.pi)\n",
    "            nu = rng.uniform(0, 2*np.pi)\n",
    "            size = rng.uniform(0.01, 0.1)\n",
    "\n",
    "            r, v = pk.par2ic([a, e, inc, om, Om, nu], pk.MU_EARTH)\n",
    "\n",
    "            sim.state[idx,0:3] = r\n",
    "            sim.state[idx,3:6] = v\n",
    "            sim.state[idx,6] = size\n",
    "    elif oc == csc.outcome.reentry:\n",
    "        pi = sim.interrupt_info\n",
    "        # We log on screen \n",
    "        print(satcat[to_satcat[pi]][\"OBJECT_NAME\"].strip() + \", \" + satcat[to_satcat[pi]][\"OBJECT_ID\"].strip() + \", \", sim.time*pk.SEC2DAY, \"REMOVED\")\n",
    "        # We remove the re-entered object and restart the simulation\n",
    "        new_state = np.delete(sim.state,pi,axis=0)\n",
    "        new_pars = np.delete(sim.pars,pi,axis=0)\n",
    "        \n",
    "        sim.set_new_state(new_state)\n",
    "        sim.pars[:] = new_pars\n",
    "        \n",
    "        # new_r_ic = np.vstack((sim.x,sim.y,sim.z)).transpose()\n",
    "        # new_v_ic = np.vstack((sim.vx,sim.vy,sim.vz)).transpose()\n",
    "        # new_r_ic, new_v_ic, new_BSTARS,new_to_satcat, new_reentry_radius = remove_particle(pi, new_r_ic, new_v_ic, new_BSTARS,new_to_satcat, new_reentry_radius)\n",
    "        # sim.set_new_state(new_r_ic[:,0],new_r_ic[:,1],new_r_ic[:,2],new_v_ic[:,0],new_v_ic[:,1],new_v_ic[:,2],new_reentry_radius, pars=[new_BSTARS])\n",
    "pbar.close()\n",
    "del pbar"
   ]
  },
  {
   "cell_type": "code",
   "execution_count": null,
   "id": "cd7d6159-2c8b-4d2c-aaee-411859a655cf",
   "metadata": {},
   "outputs": [],
   "source": [
    "with open(\"data/deterministic_simulation.pk\", \"wb\") as file:\n",
    "    pkl.dump((r_ic, v_ic, BSTARS, to_satcat, collision_radius), file)"
   ]
  }
 ],
 "metadata": {
  "kernelspec": {
   "display_name": "cascade",
   "language": "python",
   "name": "python3"
  },
  "language_info": {
   "codemirror_mode": {
    "name": "ipython",
    "version": 3
   },
   "file_extension": ".py",
   "mimetype": "text/x-python",
   "name": "python",
   "nbconvert_exporter": "python",
   "pygments_lexer": "ipython3",
   "version": "3.11.5"
  },
  "vscode": {
   "interpreter": {
    "hash": "2347a58ecb642ebeea52b8eeec5565393206a0611cdaf781015dedeac8e4b4a2"
   }
  }
 },
 "nbformat": 4,
 "nbformat_minor": 5
}
